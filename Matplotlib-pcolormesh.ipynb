{
 "cells": [
  {
   "cell_type": "markdown",
   "metadata": {},
   "source": [
    "# Matplotlib: plt.pcolormesh( )"
   ]
  },
  {
   "cell_type": "code",
   "execution_count": 75,
   "metadata": {},
   "outputs": [],
   "source": [
    "import matplotlib\n",
    "import matplotlib.pyplot as plt\n",
    "from matplotlib.colors import BoundaryNorm\n",
    "from matplotlib.ticker import MaxNLocator\n",
    "import numpy as np\n",
    "%matplotlib inline"
   ]
  },
  {
   "cell_type": "markdown",
   "metadata": {},
   "source": [
    "https://matplotlib.org/3.1.1/tutorials/colors/colormaps.html"
   ]
  },
  {
   "cell_type": "code",
   "execution_count": 76,
   "metadata": {},
   "outputs": [],
   "source": [
    "from collections import OrderedDict\n",
    "\n",
    "cmaps = OrderedDict()\n",
    "\n",
    "cmaps['Perceptually Uniform Sequential'] = [\n",
    "            'viridis', 'plasma', 'inferno', 'magma', 'cividis']\n",
    "\n",
    "cmaps['Sequential'] = [\n",
    "            'Greys', 'Purples', 'Blues', 'Greens', 'Oranges', 'Reds',\n",
    "            'YlOrBr', 'YlOrRd', 'OrRd', 'PuRd', 'RdPu', 'BuPu',\n",
    "            'GnBu', 'PuBu', 'YlGnBu', 'PuBuGn', 'BuGn', 'YlGn']\n",
    "\n",
    "cmaps['Sequential (2)'] = [\n",
    "            'binary', 'gist_yarg', 'gist_gray', 'gray', 'bone', 'pink',\n",
    "            'spring', 'summer', 'autumn', 'winter', 'cool', 'Wistia',\n",
    "            'hot', 'afmhot', 'gist_heat', 'copper']\n",
    "\n",
    "cmaps['Diverging'] = [\n",
    "            'PiYG', 'PRGn', 'BrBG', 'PuOr', 'RdGy', 'RdBu',\n",
    "            'RdYlBu', 'RdYlGn', 'Spectral', 'coolwarm', 'bwr', 'seismic']\n",
    "cmaps['Cyclic'] = ['twilight', 'twilight_shifted', 'hsv']\n",
    "\n",
    "cmaps['Qualitative'] = ['Pastel1', 'Pastel2', 'Paired', 'Accent',\n",
    "                        'Dark2', 'Set1', 'Set2', 'Set3',\n",
    "                        'tab10', 'tab20', 'tab20b', 'tab20c']\n",
    "cmaps['Miscellaneous'] = [\n",
    "            'flag', 'prism', 'ocean', 'gist_earth', 'terrain', 'gist_stern',\n",
    "            'gnuplot', 'gnuplot2', 'CMRmap', 'cubehelix', 'brg',\n",
    "            'gist_rainbow', 'rainbow', 'jet', 'nipy_spectral', 'gist_ncar']\n"
   ]
  },
  {
   "cell_type": "code",
   "execution_count": 192,
   "metadata": {},
   "outputs": [
    {
     "data": {
      "text/plain": [
       "<matplotlib.collections.QuadMesh at 0x7f4b5fc3e7f0>"
      ]
     },
     "execution_count": 192,
     "metadata": {},
     "output_type": "execute_result"
    },
    {
     "data": {
      "image/png": "[encoded data removed]",
      "text/plain": [
       "<Figure size 432x288 with 1 Axes>"
      ]
     },
     "metadata": {
      "needs_background": "light"
     },
     "output_type": "display_data"
    }
   ],
   "source": [
    "z = np.random.rand(6, 10)\n",
    "plt.pcolormesh(z, cmap=cmaps['Miscellaneous'][np.random.randint(0,len(cmaps['Miscellaneous']))])"
   ]
  },
  {
   "cell_type": "code",
   "execution_count": 195,
   "metadata": {},
   "outputs": [
    {
     "data": {
      "text/plain": [
       "<matplotlib.collections.QuadMesh at 0x7f4b5fb3ec50>"
      ]
     },
     "execution_count": 195,
     "metadata": {},
     "output_type": "execute_result"
    },
    {
     "data": {
      "image/png": "[encoded data removed]",
      "text/plain": [
       "<Figure size 432x288 with 1 Axes>"
      ]
     },
     "metadata": {
      "needs_background": "light"
     },
     "output_type": "display_data"
    }
   ],
   "source": [
    "Z = np.random.rand(25, 25)     \n",
    "plt.pcolormesh(Z, cmap=cmaps['Qualitative'][np.random.randint(0,len(cmaps['Qualitative']))]) "
   ]
  },
  {
   "cell_type": "code",
   "execution_count": 196,
   "metadata": {},
   "outputs": [
    {
     "data": {
      "text/plain": [
       "<matplotlib.collections.QuadMesh at 0x7f4b5fb1a4e0>"
      ]
     },
     "execution_count": 196,
     "metadata": {},
     "output_type": "execute_result"
    },
    {
     "data": {
      "image/png": "[encoded data removed]",
      "text/plain": [
       "<Figure size 432x288 with 1 Axes>"
      ]
     },
     "metadata": {
      "needs_background": "light"
     },
     "output_type": "display_data"
    }
   ],
   "source": [
    "z = np.random.rand(5,5)\n",
    "plt.pcolormesh(z, cmap='Pastel2')"
   ]
  },
  {
   "cell_type": "code",
   "execution_count": 197,
   "metadata": {},
   "outputs": [
    {
     "data": {
      "text/plain": [
       "array([[0.9514144 , 0.57029332, 0.8607569 , 0.64347192, 0.32139726],\n",
       "       [0.61557439, 0.26843204, 0.6226176 , 0.06117215, 0.53169502],\n",
       "       [0.11158809, 0.47625876, 0.17545301, 0.59001709, 0.54300183],\n",
       "       [0.19995624, 0.00899184, 0.39866704, 0.07890753, 0.79671966],\n",
       "       [0.91565812, 0.67119248, 0.9277704 , 0.22520721, 0.46081567]])"
      ]
     },
     "execution_count": 197,
     "metadata": {},
     "output_type": "execute_result"
    }
   ],
   "source": [
    "z"
   ]
  },
  {
   "cell_type": "code",
   "execution_count": 215,
   "metadata": {},
   "outputs": [
    {
     "data": {
      "text/plain": [
       "<matplotlib.collections.QuadMesh at 0x7f4b5f65ac50>"
      ]
     },
     "execution_count": 215,
     "metadata": {},
     "output_type": "execute_result"
    },
    {
     "data": {
      "image/png": "[encoded data removed]",
      "text/plain": [
       "<Figure size 432x288 with 1 Axes>"
      ]
     },
     "metadata": {
      "needs_background": "light"
     },
     "output_type": "display_data"
    }
   ],
   "source": [
    "columns = 10\n",
    "\n",
    "x = [np.cos(i)    for i in range(columns)]\n",
    "y = [np.tanh(i)   for i in range(columns)]\n",
    "z = [np.sin(i)    for i in range(columns)]\n",
    "w = [np.arctan(i) for i in range(columns)]\n",
    "#vector has to be a matrix\n",
    "vector = [x,y,z,w]\n",
    "\n",
    "plt.pcolormesh(vector, cmap='Set3')"
   ]
  },
  {
   "cell_type": "code",
   "execution_count": 216,
   "metadata": {},
   "outputs": [
    {
     "data": {
      "text/plain": [
       "[[1.0,\n",
       "  0.5403023058681398,\n",
       "  -0.4161468365471424,\n",
       "  -0.9899924966004454,\n",
       "  -0.6536436208636119,\n",
       "  0.28366218546322625,\n",
       "  0.960170286650366,\n",
       "  0.7539022543433046,\n",
       "  -0.14550003380861354,\n",
       "  -0.9111302618846769],\n",
       " [0.0,\n",
       "  0.7615941559557649,\n",
       "  0.9640275800758169,\n",
       "  0.9950547536867305,\n",
       "  0.999329299739067,\n",
       "  0.9999092042625951,\n",
       "  0.9999877116507956,\n",
       "  0.9999983369439447,\n",
       "  0.9999997749296758,\n",
       "  0.999999969540041],\n",
       " [0.0,\n",
       "  0.8414709848078965,\n",
       "  0.9092974268256817,\n",
       "  0.1411200080598672,\n",
       "  -0.7568024953079282,\n",
       "  -0.9589242746631385,\n",
       "  -0.27941549819892586,\n",
       "  0.6569865987187891,\n",
       "  0.9893582466233818,\n",
       "  0.4121184852417566],\n",
       " [0.0,\n",
       "  0.7853981633974483,\n",
       "  1.1071487177940904,\n",
       "  1.2490457723982544,\n",
       "  1.3258176636680326,\n",
       "  1.373400766945016,\n",
       "  1.4056476493802699,\n",
       "  1.4288992721907328,\n",
       "  1.446441332248135,\n",
       "  1.460139105621001]]"
      ]
     },
     "execution_count": 216,
     "metadata": {},
     "output_type": "execute_result"
    }
   ],
   "source": [
    "vector"
   ]
  }
 ],
 "metadata": {
  "kernelspec": {
   "display_name": "Python 3",
   "language": "python",
   "name": "python3"
  },
  "language_info": {
   "codemirror_mode": {
    "name": "ipython",
    "version": 3
   },
   "file_extension": ".py",
   "mimetype": "text/x-python",
   "name": "python",
   "nbconvert_exporter": "python",
   "pygments_lexer": "ipython3",
   "version": "3.7.0"
  }
 },
 "nbformat": 4,
 "nbformat_minor": 2
}
