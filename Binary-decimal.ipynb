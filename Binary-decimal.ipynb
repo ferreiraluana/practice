{
 "cells": [
  {
   "cell_type": "markdown",
   "metadata": {},
   "source": [
    "# Binary-decimal transformations\n",
    "\n",
    "### Write a code that transform a given decimal number in a binary number\n",
    "\n",
    "* 1st part: the binary answer must be in a regular format: 0 -> 0, 1 -> 1, 2 -> 10, 3 -> 11 (...)\n",
    "* 2nd part: the binary answer must be in a byte format: 0 -> 00000000, 1 -> 00000001, 2 -> 00000010, 3 -> 00000011"
   ]
  },
  {
   "cell_type": "markdown",
   "metadata": {},
   "source": [
    "### 1st part: Regular format"
   ]
  },
  {
   "cell_type": "code",
   "execution_count": 123,
   "metadata": {},
   "outputs": [],
   "source": [
    "def decimalToBinary(x):\n",
    "    if x == 0:\n",
    "        return '0'\n",
    "    binary = []\n",
    "    while(x>0):\n",
    "        mod = x%2\n",
    "        x = x//2\n",
    "        binary.append(str(mod))\n",
    "    binary.reverse()\n",
    "    separator = \"\"\n",
    "    Binary = separator.join(binary)\n",
    "    return Binary"
   ]
  },
  {
   "cell_type": "code",
   "execution_count": 124,
   "metadata": {},
   "outputs": [
    {
     "name": "stdout",
     "output_type": "stream",
     "text": [
      " 0  |  0\n",
      " 1  |  1\n",
      " 2  |  10\n",
      " 3  |  11\n",
      " 4  |  100\n",
      " 5  |  101\n",
      " 6  |  110\n",
      " 7  |  111\n",
      " 8  |  1000\n",
      " 9  |  1001\n",
      "10  |  1010\n",
      "11  |  1011\n",
      "12  |  1100\n",
      "13  |  1101\n",
      "14  |  1110\n",
      "15  |  1111\n",
      "16  |  10000\n"
     ]
    }
   ],
   "source": [
    "for i in range(17):\n",
    "    if i<10:\n",
    "        print(\" {}  |  {}\".format(i,decimalToBinary(i)))\n",
    "    else:\n",
    "        print(\"{}  |  {}\".format(i,decimalToBinary(i)))"
   ]
  },
  {
   "cell_type": "markdown",
   "metadata": {},
   "source": [
    "### 2nd part: Byte format"
   ]
  },
  {
   "cell_type": "code",
   "execution_count": 125,
   "metadata": {},
   "outputs": [],
   "source": [
    "def decimalToByte(x):\n",
    "    binary = decimalToBinary(x)\n",
    "    size = 8 - len(binary)\n",
    "    if size > 0:\n",
    "        binary = '0'*size + binary\n",
    "            \n",
    "    return binary"
   ]
  },
  {
   "cell_type": "code",
   "execution_count": 126,
   "metadata": {},
   "outputs": [
    {
     "name": "stdout",
     "output_type": "stream",
     "text": [
      " 0  |  00000000\n",
      " 1  |  00000001\n",
      " 2  |  00000010\n",
      " 3  |  00000011\n",
      " 4  |  00000100\n",
      " 5  |  00000101\n",
      " 6  |  00000110\n",
      " 7  |  00000111\n",
      " 8  |  00001000\n",
      " 9  |  00001001\n",
      "10  |  00001010\n",
      "11  |  00001011\n",
      "12  |  00001100\n",
      "13  |  00001101\n",
      "14  |  00001110\n",
      "15  |  00001111\n",
      "16  |  00010000\n"
     ]
    }
   ],
   "source": [
    "for i in range(17):\n",
    "    if i<10:\n",
    "        print(\" {}  |  {}\".format(i,decimalToByte(i)))\n",
    "    else:\n",
    "        print(\"{}  |  {}\".format(i,decimalToByte(i)))"
   ]
  },
  {
   "cell_type": "markdown",
   "metadata": {},
   "source": [
    "### Write a code that transform a given bynary number in a decimal number\n",
    "\n",
    "* 3rd part: the binary input is in a regular format: 0 -> 0, 1 -> 1, 10 -> 2, 11 -> 3 (...)\n",
    "* 4th part: the binary input is in a byte format: 00000000 -> 0, 00000001 -> 1, 00000010 -> 2, 00000011 -> 3"
   ]
  },
  {
   "cell_type": "markdown",
   "metadata": {},
   "source": [
    "### 3rd part: Regular Binary input "
   ]
  },
  {
   "cell_type": "code",
   "execution_count": 127,
   "metadata": {},
   "outputs": [],
   "source": [
    "def binaryToDecimal(x):\n",
    "    x = x[::-1]\n",
    "    decimal = 0\n",
    "    \n",
    "    for i in range(0,len(x)):\n",
    "        decimal += int(x[i])*(2**i)\n",
    "    return decimal"
   ]
  },
  {
   "cell_type": "code",
   "execution_count": 128,
   "metadata": {},
   "outputs": [],
   "source": [
    "binary_input = []\n",
    "for i in range(17):\n",
    "    binary_input.append(str(decimalToBinary(i)))"
   ]
  },
  {
   "cell_type": "code",
   "execution_count": 129,
   "metadata": {},
   "outputs": [
    {
     "data": {
      "text/plain": [
       "['0',\n",
       " '1',\n",
       " '10',\n",
       " '11',\n",
       " '100',\n",
       " '101',\n",
       " '110',\n",
       " '111',\n",
       " '1000',\n",
       " '1001',\n",
       " '1010',\n",
       " '1011',\n",
       " '1100',\n",
       " '1101',\n",
       " '1110',\n",
       " '1111',\n",
       " '10000']"
      ]
     },
     "execution_count": 129,
     "metadata": {},
     "output_type": "execute_result"
    }
   ],
   "source": [
    "binary_input"
   ]
  },
  {
   "cell_type": "code",
   "execution_count": 130,
   "metadata": {},
   "outputs": [
    {
     "name": "stdout",
     "output_type": "stream",
     "text": [
      "0\n",
      "1\n",
      "2\n",
      "3\n",
      "4\n",
      "5\n",
      "6\n",
      "7\n",
      "8\n",
      "9\n",
      "10\n",
      "11\n",
      "12\n",
      "13\n",
      "14\n",
      "15\n",
      "16\n"
     ]
    }
   ],
   "source": [
    "for binary in binary_input:\n",
    "    print(binaryToDecimal(binary))"
   ]
  },
  {
   "cell_type": "markdown",
   "metadata": {},
   "source": [
    "### 4th part: Byte input"
   ]
  },
  {
   "cell_type": "code",
   "execution_count": 131,
   "metadata": {},
   "outputs": [],
   "source": [
    "byte_input = []\n",
    "for i in range(17):\n",
    "    byte_input.append(str(decimalToByte(i)))"
   ]
  },
  {
   "cell_type": "code",
   "execution_count": 132,
   "metadata": {},
   "outputs": [
    {
     "data": {
      "text/plain": [
       "['00000000',\n",
       " '00000001',\n",
       " '00000010',\n",
       " '00000011',\n",
       " '00000100',\n",
       " '00000101',\n",
       " '00000110',\n",
       " '00000111',\n",
       " '00001000',\n",
       " '00001001',\n",
       " '00001010',\n",
       " '00001011',\n",
       " '00001100',\n",
       " '00001101',\n",
       " '00001110',\n",
       " '00001111',\n",
       " '00010000']"
      ]
     },
     "execution_count": 132,
     "metadata": {},
     "output_type": "execute_result"
    }
   ],
   "source": [
    "byte_input"
   ]
  },
  {
   "cell_type": "code",
   "execution_count": 133,
   "metadata": {},
   "outputs": [],
   "source": [
    "def byteToDecimal(x):\n",
    "    \n",
    "    decimal = 0\n",
    "    for i in range(len(x)):\n",
    "        decimal += int(x[i])*(2**(8-i-1))\n",
    "    return decimal"
   ]
  },
  {
   "cell_type": "code",
   "execution_count": 134,
   "metadata": {},
   "outputs": [
    {
     "name": "stdout",
     "output_type": "stream",
     "text": [
      "0\n",
      "1\n",
      "2\n",
      "3\n",
      "4\n",
      "5\n",
      "6\n",
      "7\n",
      "8\n",
      "9\n",
      "10\n",
      "11\n",
      "12\n",
      "13\n",
      "14\n",
      "15\n",
      "16\n"
     ]
    }
   ],
   "source": [
    "for byte in byte_input:\n",
    "    print(byteToDecimal(byte))"
   ]
  },
  {
   "cell_type": "code",
   "execution_count": 143,
   "metadata": {},
   "outputs": [
    {
     "data": {
      "text/plain": [
       "<matplotlib.collections.PathCollection at 0x7f104bf53b38>"
      ]
     },
     "execution_count": 143,
     "metadata": {},
     "output_type": "execute_result"
    },
    {
     "data": {
      "image/png": "[encoded data removed]",
      "text/plain": [
       "<Figure size 432x288 with 1 Axes>"
      ]
     },
     "metadata": {
      "needs_background": "light"
     },
     "output_type": "display_data"
    }
   ],
   "source": [
    "import matplotlib.pyplot as plt\n",
    "%matplotlib inline\n",
    "x = [i for i in range(17)]\n",
    "y = [0,1,10,11,100,101,110,111,1000,1001,1010,1011,1100,1101,1110,1111,10000]\n",
    "plt.plot(x,y)\n",
    "plt.scatter(x,y)"
   ]
  }
 ],
 "metadata": {
  "kernelspec": {
   "display_name": "Python 3",
   "language": "python",
   "name": "python3"
  },
  "language_info": {
   "codemirror_mode": {
    "name": "ipython",
    "version": 3
   },
   "file_extension": ".py",
   "mimetype": "text/x-python",
   "name": "python",
   "nbconvert_exporter": "python",
   "pygments_lexer": "ipython3",
   "version": "3.7.0"
  }
 },
 "nbformat": 4,
 "nbformat_minor": 2
}
